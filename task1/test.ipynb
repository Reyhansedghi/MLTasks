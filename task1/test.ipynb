{
 "cells": [
  {
   "cell_type": "code",
   "execution_count": 1,
   "metadata": {},
   "outputs": [],
   "source": [
    "import numpy as np\n",
    "import cv2\n",
    "import matplotlib.pyplot as plt"
   ]
  },
  {
   "cell_type": "code",
   "execution_count": 2,
   "metadata": {},
   "outputs": [],
   "source": [
    "def resize_image(image, new_shape):\n",
    "    h, w = image.shape\n",
    "    grid_dim = (h // new_shape[0], w // new_shape[1]) \n",
    "    new_image = np.ones(new_shape, dtype=np.uint8) \n",
    "    for i in range(new_shape[0]):\n",
    "        for j in range(new_shape[1]):\n",
    "            new_image[i, j] = image[i*grid_dim[0]:(i+1)*grid_dim[0], \n",
    "                         j*grid_dim[1]:(j+1)*grid_dim[1]].max()\n",
    "\n",
    "    return new_image"
   ]
  },
  {
   "cell_type": "code",
   "execution_count": 3,
   "metadata": {},
   "outputs": [
    {
     "data": {
      "text/plain": [
       "<matplotlib.image.AxesImage at 0x2380583c7d0>"
      ]
     },
     "execution_count": 3,
     "metadata": {},
     "output_type": "execute_result"
    },
    {
     "data": {
      "image/png": "[encoded data removed]",
      "text/plain": [
       "<Figure size 640x480 with 1 Axes>"
      ]
     },
     "metadata": {},
     "output_type": "display_data"
    }
   ],
   "source": [
    "image = cv2.imread('digits.jpg')\n",
    "image = cv2.cvtColor(image, cv2.COLOR_BGR2GRAY)[:300,:]\n",
    "im1 = image[50:,:250].copy()\n",
    "im1 = np.where(im1<80,1,0)\n",
    "im1 = resize_image(im1,(28,28))\n",
    "plt.imshow(im1, cmap='gray')\n"
   ]
  },
  {
   "cell_type": "code",
   "execution_count": null,
   "metadata": {},
   "outputs": [],
   "source": []
  }
 ],
 "metadata": {
  "kernelspec": {
   "display_name": "env",
   "language": "python",
   "name": "python3"
  },
  "language_info": {
   "codemirror_mode": {
    "name": "ipython",
    "version": 3
   },
   "file_extension": ".py",
   "mimetype": "text/x-python",
   "name": "python",
   "nbconvert_exporter": "python",
   "pygments_lexer": "ipython3",
   "version": "3.12.4"
  }
 },
 "nbformat": 4,
 "nbformat_minor": 2
}
